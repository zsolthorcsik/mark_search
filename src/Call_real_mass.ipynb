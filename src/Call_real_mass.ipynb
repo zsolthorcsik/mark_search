{
 "cells": [
  {
   "cell_type": "code",
   "execution_count": null,
   "metadata": {},
   "outputs": [],
   "source": [
    "import Real_mass\n",
    "from Real_mass import search_and_extract\n",
    "import config\n",
    "\n",
    "#Make a config file (config.py) with your google search api key, and application key\n",
    "my_api_key = config.my_api_key\n",
    "my_cse = config.my_cse"
   ]
  },
  {
   "cell_type": "code",
   "execution_count": null,
   "metadata": {},
   "outputs": [],
   "source": [
    "#Enter your search in the search list and the csv name at file_name\n",
    "#Simply copy this block and execute more times, or just add items to the search list\n",
    "try:\n",
    "    search_list = ['Hazardous waste generated in the EU']\n",
    "    file_name = 'search.csv'\n",
    "    for search_term in search_list:\n",
    "        search_and_extract(file_name, search_term, my_api_key, my_cse)\n",
    "        print('--------{}--------'.format(search_term))\n",
    "except Exception as e:\n",
    "    print(e)"
   ]
  }
 ],
 "metadata": {
  "kernelspec": {
   "display_name": "Python 3",
   "language": "python",
   "name": "python3"
  },
  "language_info": {
   "codemirror_mode": {
    "name": "ipython",
    "version": 3
   },
   "file_extension": ".py",
   "mimetype": "text/x-python",
   "name": "python",
   "nbconvert_exporter": "python",
   "pygments_lexer": "ipython3",
   "version": "3.6.6"
  }
 },
 "nbformat": 4,
 "nbformat_minor": 2
}
